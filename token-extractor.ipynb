{
 "cells": [
  {
   "cell_type": "code",
   "execution_count": 1,
   "metadata": {},
   "outputs": [],
   "source": [
    "file = open('demofile.dots', 'r', encoding='UTF-8')"
   ]
  },
  {
   "cell_type": "code",
   "execution_count": 2,
   "metadata": {},
   "outputs": [],
   "source": [
    "lines = file.readlines()"
   ]
  },
  {
   "cell_type": "code",
   "execution_count": 3,
   "metadata": {},
   "outputs": [],
   "source": [
    "import re\n",
    "declarator = r\":[_A-Za-z][A-Za-z0-9]*:\"\n",
    "literals = r\"\\\"[A-Za-z0-9\\;\\,\\.\\-\\:\\^\\*\\ ]*\\\"\"\n",
    "variables = r\"[A-Za-z][A-Za-z0-9_]*\"\n",
    "functional_symbols = [\n",
    "    {\n",
    "        \"name\":\"open_parentheses\",\n",
    "        \"matcher\":r\"\\(\"\n",
    "    },\n",
    "    {\n",
    "        \"name\":\"close_parentheses\",\n",
    "        \"matcher\":r\"\\)\"\n",
    "    },\n",
    "    {\n",
    "        \"name\":\"open_curly\",\n",
    "        \"matcher\":r\"\\{\"\n",
    "    },\n",
    "    {\n",
    "        \"name\":\"close_curly\",\n",
    "        \"matcher\":r\"\\}\"\n",
    "    },\n",
    "    {\n",
    "        \"name\":\"equals_assign\",\n",
    "        \"matcher\":r\" :=: \"\n",
    "    },\n",
    "        {\n",
    "        \"name\": \"string\",\n",
    "        \"converts_to\":str,\n",
    "        \"matcher\":r\"string \"\n",
    "    },\n",
    "    {\n",
    "        \"name\": \"int\",\n",
    "        \"converts_to\": int,\n",
    "        \"matcher\": r\"int \"\n",
    "    },\n",
    "    {\n",
    "        \"name\": \"float\",\n",
    "        \"converts_to\": float,\n",
    "        \"matcher\": r\"float \"\n",
    "    }\n",
    "]\n",
    "variable_types = [\n",
    "    {\n",
    "        \"name\": \"string\",\n",
    "        \"converts_to\":str,\n",
    "        \"matcher\":r\"string \"\n",
    "    },\n",
    "    {\n",
    "        \"name\": \"int\",\n",
    "        \"converts_to\": int,\n",
    "        \"matcher\": r\"int \"\n",
    "    },\n",
    "    {\n",
    "        \"name\": \"float\",\n",
    "        \"converts_to\": float,\n",
    "        \"matcher\": r\"float \"\n",
    "    }\n",
    "]\n",
    "comment = r\"\\..*\\.\"\n"
   ]
  },
  {
   "cell_type": "code",
   "execution_count": 4,
   "metadata": {},
   "outputs": [],
   "source": [
    "from operator import indexOf\n",
    "\n",
    "\n",
    "def filler_inLine(found_group, line, lines):\n",
    "    filler = \"\"\n",
    "    indexToReplace = indexOf(lines,line)\n",
    "    for i in range(0,len(found_group)):\n",
    "        filler+=\" \"\n",
    "    line = line.replace(found_group,filler)\n",
    "    lines[indexToReplace] = line\n",
    "    return line, lines"
   ]
  },
  {
   "cell_type": "code",
   "execution_count": 5,
   "metadata": {},
   "outputs": [
    {
     "ename": "NameError",
     "evalue": "name 'found_comment' is not defined",
     "output_type": "error",
     "traceback": [
      "\u001b[1;31m---------------------------------------------------------------------------\u001b[0m",
      "\u001b[1;31mNameError\u001b[0m                                 Traceback (most recent call last)",
      "Cell \u001b[1;32mIn [5], line 8\u001b[0m\n\u001b[0;32m      6\u001b[0m line \u001b[39m=\u001b[39m lines[index]\n\u001b[0;32m      7\u001b[0m \u001b[39m#* Encontra comentários de uma linha\u001b[39;00m\n\u001b[1;32m----> 8\u001b[0m \u001b[39mif\u001b[39;00m found_comment:\n\u001b[0;32m      9\u001b[0m    line, lines \u001b[39m=\u001b[39m filler_inLine(found_comment\u001b[39m.\u001b[39mgroup(),line,lines)\n\u001b[0;32m     10\u001b[0m    \u001b[39mprint\u001b[39m(line)\n",
      "\u001b[1;31mNameError\u001b[0m: name 'found_comment' is not defined"
     ]
    }
   ],
   "source": [
    "from operator import indexOf\n",
    "import re\n",
    "stack = []\n",
    "for index in range(0,len(lines)):\n",
    "    #* Define a linha a ser analisada\n",
    "    line = lines[index]\n",
    "    #* Encontra comentários de uma linha\n",
    "    if found_comment:\n",
    "       line, lines = filler_inLine(found_comment.group(),line,lines)\n",
    "       print(line)\n",
    "    #* Encontra um literal\n",
    "    found_literal = re.search(literals,line)\n",
    "    if found_literal:\n",
    "        stack.append(\n",
    "            {\n",
    "                'line': indexOf(lines,line),\n",
    "                'position': found_literal.span(),\n",
    "                'match': found_literal.group()\n",
    "            }\n",
    "        )\n",
    "        line, lines = filler_inLine(found_literal.group(), line, lines)\n",
    "    \n",
    "    #* Encontra um declarador\n",
    "    found_declarator = re.search(declarator,line)\n",
    "    if found_declarator:\n",
    "        stack.append(\n",
    "            {\n",
    "                'line': indexOf(lines,line),\n",
    "                'position': found_declarator.span(),\n",
    "                'match': found_declarator.group()\n",
    "            }\n",
    "        )\n",
    "        line, lines = filler_inLine(found_declarator.group(),line,lines)\n",
    "    \n",
    "    #* Simbolos Funcionais\n",
    "    for functional_symbol in functional_symbols:\n",
    "        found_functional_symbol = re.search(functional_symbol[\"matcher\"], line)\n",
    "        if found_functional_symbol:\n",
    "            stack.append(            {\n",
    "                'line': indexOf(lines,line),\n",
    "                'position': found_functional_symbol.span(),\n",
    "                'match': found_functional_symbol.group()\n",
    "            })\n",
    "            line, lines = filler_inLine(found_functional_symbol.group(),line,lines)\n",
    "            \n",
    "    #* Encontra uma variavel\n",
    "    found_variable = re.search(variables,line)\n",
    "    if found_variable:\n",
    "        stack.append(            {\n",
    "            'line': indexOf(lines,line),\n",
    "            'position': found_variable.span(),\n",
    "            'match': found_variable.group()\n",
    "        })\n",
    "        line, lines = filler_inLine(found_variable.group(),line,lines)\n",
    "    found_comment = re.search(comment, line)\n",
    "            \n",
    "print(stack)"
   ]
  },
  {
   "cell_type": "code",
   "execution_count": null,
   "metadata": {},
   "outputs": [],
   "source": [
    "file = open('demofile.dots', 'r', encoding='UTF-8')\n",
    "oc_lines = file.readlines()"
   ]
  },
  {
   "cell_type": "code",
   "execution_count": null,
   "metadata": {},
   "outputs": [
    {
     "name": "stdout",
     "output_type": "stream",
     "text": [
      "[{'line': 0, 'position': (0, 3), 'match': ':m:'}, {'line': 0, 'position': (3, 4), 'match': '('}, {'line': 0, 'position': (4, 5), 'match': ')'}, {'line': 0, 'position': (5, 6), 'match': '{'}, {'line': 1, 'position': (4, 11), 'match': 'string '}, {'line': 1, 'position': (11, 16), 'match': 'hello'}, {'line': 1, 'position': (16, 21), 'match': ' :=: '}, {'line': 1, 'position': (21, 38), 'match': '\"Hello :m: World\"'}, {'line': 2, 'position': (4, 7), 'match': ':p:'}, {'line': 2, 'position': (7, 8), 'match': '('}, {'line': 2, 'position': (8, 13), 'match': 'hello'}, {'line': 2, 'position': (13, 14), 'match': ')'}, {'line': 3, 'position': (6, 10), 'match': 'aqui'}, {'line': 4, 'position': (0, 1), 'match': '}'}]\n"
     ]
    }
   ],
   "source": [
    "stack.sort(key=lambda x: x['position'][0])\n",
    "stack.sort(key=lambda x: x['line'])\n",
    "\n",
    "print(stack)\n",
    "\n",
    "#for item in stack:\n",
    "    #print(str(oc_lines[item['line']])[item['position'][0]:item['position'][1]])"
   ]
  },
  {
   "cell_type": "code",
   "execution_count": 8,
   "metadata": {},
   "outputs": [],
   "source": [
    "# @ é vazio\n",
    "def genFirst(input:str, non_terminals, terminals, productions):\n",
    "    first = set()\n",
    "    if input in non_terminals:\n",
    "        for alternative in productions[input]:\n",
    "            first = first | genFirst(alternative, non_terminals, terminals, productions)\n",
    "    elif input in terminals:\n",
    "        first = {input}\n",
    "    elif input=='' or input=='@':\n",
    "        first = {'@'}\n",
    "    else:\n",
    "        first_2 = genFirst(input[0], non_terminals, terminals, productions)\n",
    "        if '@' in first_2:\n",
    "            i = 1\n",
    "            while '@' in first_2:\n",
    "                first = first | (first_2 - {'@'})\n",
    "                if input[i:] in terminals:\n",
    "                    first = first | {input[i:]}\n",
    "                    break\n",
    "                elif input[i:] == '':\n",
    "                    first = first | {'@'}\n",
    "                    break\n",
    "                first_2 = first(input[i:])\n",
    "                first = first | first_2 - {'@'}\n",
    "                i += 1\n",
    "        else:\n",
    "            first = first | first_2\n",
    "    return first"
   ]
  },
  {
   "cell_type": "code",
   "execution_count": null,
   "metadata": {},
   "outputs": [],
   "source": [
    "def getFollow(nT, starting_symbol, productions):\n",
    "    follow = set()\n",
    "    prods = productions.items()\n",
    "    if nT==starting_symbol:\n",
    "        follow = follow | {'$'}\n",
    "    for nt, rhs in prods:\n",
    "        for alt in rhs:\n",
    "            for char in alt:\n",
    "                if char==nT:\n",
    "                    following_str = alt[alt.index(char) + 1:]\n",
    "                    if following_str=='':\n",
    "                        if nt==nT:\n",
    "                            continue\n",
    "                        else:\n",
    "                            follow = follow | getFollow(nt)\n",
    "                    else:\n",
    "                        follow_2 = genFirst(following_str)\n",
    "                        if '@' in follow_2:\n",
    "                            follow = follow | follow_2-{'@'}\n",
    "                            follow = follow | getFollow(nt)\n",
    "                        else:\n",
    "                            follow = follow | follow_2\n",
    "    return follow"
   ]
  },
  {
   "cell_type": "code",
   "execution_count": 10,
   "metadata": {},
   "outputs": [
    {
     "name": "stdout",
     "output_type": "stream",
     "text": [
      "{'@', 'c', 'b', 'a'}\n",
      "{'@', 'a'}\n",
      "{'@', 'b'}\n",
      "{'@', 'c'}\n"
     ]
    }
   ],
   "source": [
    "terminals = {'a','b','c'}\n",
    "non_terminals = {'S','A','B','C'}\n",
    "productions = {'S':['A','B','C','@'],'A':['aA','@'],'B':['bB','@'],'C':['cC','@']}\n",
    "\n",
    "print(genFirst('S',non_terminals,terminals,productions))\n",
    "print(genFirst('A',non_terminals,terminals,productions))\n",
    "print(genFirst('B',non_terminals,terminals,productions))\n",
    "print(genFirst('C',non_terminals,terminals,productions))"
   ]
  }
 ],
 "metadata": {
  "kernelspec": {
   "display_name": "Python 3.10.4 64-bit",
   "language": "python",
   "name": "python3"
  },
  "language_info": {
   "codemirror_mode": {
    "name": "ipython",
    "version": 3
   },
   "file_extension": ".py",
   "mimetype": "text/x-python",
   "name": "python",
   "nbconvert_exporter": "python",
   "pygments_lexer": "ipython3",
   "version": "3.10.4"
  },
  "orig_nbformat": 4,
  "vscode": {
   "interpreter": {
    "hash": "369f2c481f4da34e4445cda3fffd2e751bd1c4d706f27375911949ba6bb62e1c"
   }
  }
 },
 "nbformat": 4,
 "nbformat_minor": 2
}
