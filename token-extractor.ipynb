{
 "cells": [
  {
   "cell_type": "code",
   "execution_count": 62,
   "metadata": {},
   "outputs": [],
   "source": [
    "file = open('demofile.dots', 'r', encoding='UTF-8')"
   ]
  },
  {
   "cell_type": "code",
   "execution_count": 63,
   "metadata": {},
   "outputs": [],
   "source": [
    "lines = file.readlines()"
   ]
  },
  {
   "cell_type": "code",
   "execution_count": 55,
   "metadata": {},
   "outputs": [],
   "source": [
    "import re\n",
    "declarator = r\":[_A-Za-z][A-Za-z0-9]*:\"\n",
    "functional_symbols = [\n",
    "    {\n",
    "        \"name\":\"open_parentheses\",\n",
    "        \"matcher\":r\"\\(\"\n",
    "    },\n",
    "    {\n",
    "        \"name\":\"close_parentheses\",\n",
    "        \"matcher\":r\"\\)\"\n",
    "    },\n",
    "    {\n",
    "        \"name\":\"open_curly\",\n",
    "        \"matcher\":r\"\\{\"\n",
    "    },\n",
    "    {\n",
    "        \"name\":\"close_curly\",\n",
    "        \"matcher\":r\"\\}\"\n",
    "    }\n",
    "]\n",
    "variable_types = [\n",
    "    {\n",
    "        \"converts_to\":str,\n",
    "        \"matcher\":r\"string \"\n",
    "    }\n",
    "]\n",
    "\n"
   ]
  },
  {
   "cell_type": "code",
   "execution_count": 64,
   "metadata": {},
   "outputs": [
    {
     "name": "stdout",
     "output_type": "stream",
     "text": [
      "[{'line': 0, 'position': (1, 4), 'match': ':m:'}, {'line': 0, 'position': (0, 1), 'match': '('}, {'line': 0, 'position': (5, 6), 'match': ')'}, {'line': 0, 'position': (6, 7), 'match': '{'}, {'line': 2, 'position': (4, 7), 'match': ':p:'}, {'line': 2, 'position': (7, 8), 'match': '('}, {'line': 2, 'position': (13, 14), 'match': ')'}, {'line': 7, 'position': (0, 1), 'match': '}'}]\n"
     ]
    }
   ],
   "source": [
    "from operator import indexOf\n",
    "import re\n",
    "stack = []\n",
    "for line in lines:\n",
    "    found_declarator = re.search(declarator,line)\n",
    "    if found_declarator:\n",
    "        stack.append(\n",
    "            {\n",
    "                'line': indexOf(lines,line),\n",
    "                'position': found_declarator.span(),\n",
    "                'match': found_declarator.group()\n",
    "            }\n",
    "        )\n",
    "    for functional_symbol in functional_symbols:\n",
    "        found_functional_symbol = re.search(functional_symbol[\"matcher\"], line)\n",
    "        if found_functional_symbol:\n",
    "            stack.append(            {\n",
    "                'line': indexOf(lines,line),\n",
    "                'position': found_functional_symbol.span(),\n",
    "                'match': found_functional_symbol.group()\n",
    "            })\n",
    "            \n",
    "print(stack)"
   ]
  },
  {
   "cell_type": "code",
   "execution_count": 68,
   "metadata": {},
   "outputs": [
    {
     "name": "stdout",
     "output_type": "stream",
     "text": [
      ":m:\n",
      "(\n",
      ")\n",
      "{\n",
      ":p:\n",
      "(\n",
      ")\n",
      "}\n"
     ]
    }
   ],
   "source": [
    "for item in stack:\n",
    "    print(str(lines[item['line']])[item['position'][0]:item['position'][1]])"
   ]
  }
 ],
 "metadata": {
  "kernelspec": {
   "display_name": "Python 3.10.4 64-bit",
   "language": "python",
   "name": "python3"
  },
  "language_info": {
   "codemirror_mode": {
    "name": "ipython",
    "version": 3
   },
   "file_extension": ".py",
   "mimetype": "text/x-python",
   "name": "python",
   "nbconvert_exporter": "python",
   "pygments_lexer": "ipython3",
   "version": "3.10.4"
  },
  "orig_nbformat": 4,
  "vscode": {
   "interpreter": {
    "hash": "369f2c481f4da34e4445cda3fffd2e751bd1c4d706f27375911949ba6bb62e1c"
   }
  }
 },
 "nbformat": 4,
 "nbformat_minor": 2
}
