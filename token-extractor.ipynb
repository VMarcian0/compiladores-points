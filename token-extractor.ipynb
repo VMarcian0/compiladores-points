{
 "cells": [
  {
   "cell_type": "code",
   "execution_count": 1,
   "metadata": {},
   "outputs": [],
   "source": [
    "file = open('demofile.dots', 'r', encoding='UTF-8')"
   ]
  },
  {
   "cell_type": "code",
   "execution_count": 2,
   "metadata": {},
   "outputs": [],
   "source": [
    "lines = file.readlines()"
   ]
  },
  {
   "cell_type": "code",
   "execution_count": 4,
   "metadata": {},
   "outputs": [],
   "source": [
    "import re\n",
    "declarator = r\":[_A-Za-z][A-Za-z0-9]*:\"\n",
    "literals = r\"\\\"[A-Za-z0-9\\;\\,\\.\\-\\:\\^\\*\\ ]*\\\"\"\n",
    "variables = r\"[A-Za-z][A-Za-z0-9_]*\"\n",
    "functional_symbols = [\n",
    "    {\n",
    "        \"name\":\"open_parentheses\",\n",
    "        \"matcher\":r\"\\(\"\n",
    "    },\n",
    "    {\n",
    "        \"name\":\"close_parentheses\",\n",
    "        \"matcher\":r\"\\)\"\n",
    "    },\n",
    "    {\n",
    "        \"name\":\"open_curly\",\n",
    "        \"matcher\":r\"\\{\"\n",
    "    },\n",
    "    {\n",
    "        \"name\":\"close_curly\",\n",
    "        \"matcher\":r\"\\}\"\n",
    "    },\n",
    "    {\n",
    "        \"name\":\"equals_assign\",\n",
    "        \"matcher\":r\" :=: \"\n",
    "    },\n",
    "        {\n",
    "        \"name\": \"string\",\n",
    "        \"converts_to\":str,\n",
    "        \"matcher\":r\"string \"\n",
    "    },\n",
    "    {\n",
    "        \"name\": \"int\",\n",
    "        \"converts_to\": int,\n",
    "        \"matcher\": r\"int \"\n",
    "    },\n",
    "    {\n",
    "        \"name\": \"float\",\n",
    "        \"converts_to\": float,\n",
    "        \"matcher\": r\"float \"\n",
    "    },\n",
    "    {\n",
    "        \"name\": \"semicolon\",\n",
    "        \"converts_to\": '\\n',\n",
    "        \"matcher\": r\";\"\n",
    "    }\n",
    "]\n",
    "variable_types = [\n",
    "    {\n",
    "        \"name\": \"string\",\n",
    "        \"converts_to\":str,\n",
    "        \"matcher\":r\"string \"\n",
    "    },\n",
    "    {\n",
    "        \"name\": \"int\",\n",
    "        \"converts_to\": int,\n",
    "        \"matcher\": r\"int \"\n",
    "    },\n",
    "    {\n",
    "        \"name\": \"float\",\n",
    "        \"converts_to\": float,\n",
    "        \"matcher\": r\"float \"\n",
    "    }\n",
    "]\n",
    "comment = r\"\\..*\\.\"\n"
   ]
  },
  {
   "cell_type": "code",
   "execution_count": 5,
   "metadata": {},
   "outputs": [],
   "source": [
    "from operator import indexOf\n",
    "\n",
    "\n",
    "def filler_inLine(found_group, line, lines):\n",
    "    filler = \"\"\n",
    "    indexToReplace = indexOf(lines,line)\n",
    "    for i in range(0,len(found_group)):\n",
    "        filler+=\" \"\n",
    "    line = line.replace(found_group,filler)\n",
    "    lines[indexToReplace] = line\n",
    "    return line, lines"
   ]
  },
  {
   "cell_type": "code",
   "execution_count": 6,
   "metadata": {},
   "outputs": [
    {
     "name": "stdout",
     "output_type": "stream",
     "text": [
      "0       \n",
      "\n",
      "1                                        \n",
      "\n",
      "2                \n",
      "\n",
      "3  \n",
      "[{'line': 0, 'position': (0, 3), 'match': ':m:'}, {'line': 0, 'position': (3, 4), 'match': '('}, {'line': 0, 'position': (4, 5), 'match': ')'}, {'line': 0, 'position': (5, 6), 'match': '{'}, {'line': 1, 'position': (21, 38), 'match': '\"Hello :m: World\"'}, {'line': 1, 'position': (16, 21), 'match': ' :=: '}, {'line': 1, 'position': (4, 11), 'match': 'string '}, {'line': 1, 'position': (38, 39), 'match': ';'}, {'line': 1, 'position': (11, 16), 'match': 'hello'}, {'line': 2, 'position': (4, 7), 'match': ':p:'}, {'line': 2, 'position': (7, 8), 'match': '('}, {'line': 2, 'position': (13, 14), 'match': ')'}, {'line': 2, 'position': (14, 15), 'match': ';'}, {'line': 2, 'position': (8, 13), 'match': 'hello'}, {'line': 3, 'position': (0, 1), 'match': '}'}]\n"
     ]
    }
   ],
   "source": [
    "from operator import indexOf\n",
    "import re\n",
    "stack = []\n",
    "for index in range(0,len(lines)):\n",
    "    #* Define a linha a ser analisada\n",
    "    line = lines[index]\n",
    "    #* Encontra comentários de uma linha\n",
    "    #found_comment = re.search(comment, line)\n",
    "    #if found_comment:\n",
    "    #   line, lines = filler_inLine(found_comment.group(),line,lines)\n",
    "    #   print(line)\n",
    "    #* Encontra um literal\n",
    "    found_literal = re.search(literals,line)\n",
    "    if found_literal:\n",
    "        stack.append(\n",
    "            {\n",
    "                'line': indexOf(lines,line),\n",
    "                'position': found_literal.span(),\n",
    "                'match': found_literal.group()\n",
    "            }\n",
    "        )\n",
    "        line, lines = filler_inLine(found_literal.group(), line, lines)\n",
    "    \n",
    "    #* Encontra um declarador\n",
    "    found_declarator = re.search(declarator,line)\n",
    "    if found_declarator:\n",
    "        stack.append(\n",
    "            {\n",
    "                'line': indexOf(lines,line),\n",
    "                'position': found_declarator.span(),\n",
    "                'match': found_declarator.group()\n",
    "            }\n",
    "        )\n",
    "        line, lines = filler_inLine(found_declarator.group(),line,lines)\n",
    "    \n",
    "    #* Simbolos Funcionais\n",
    "    for functional_symbol in functional_symbols:\n",
    "        found_functional_symbol = re.search(functional_symbol[\"matcher\"], line)\n",
    "        if found_functional_symbol:\n",
    "            stack.append(            {\n",
    "                'line': indexOf(lines,line),\n",
    "                'position': found_functional_symbol.span(),\n",
    "                'match': found_functional_symbol.group()\n",
    "            })\n",
    "            line, lines = filler_inLine(found_functional_symbol.group(),line,lines)\n",
    "            \n",
    "    #* Encontra uma variavel\n",
    "    found_variable = re.search(variables,line)\n",
    "    if found_variable:\n",
    "        stack.append(            {\n",
    "            'line': indexOf(lines,line),\n",
    "            'position': found_variable.span(),\n",
    "            'match': found_variable.group()\n",
    "        })\n",
    "        line, lines = filler_inLine(found_variable.group(),line,lines)\n",
    "for line_number in range(0,len(lines)):\n",
    "    if len(lines[line_number].strip()) != 0:\n",
    "        raise SyntaxError(f\"Error at line {line_number}\")\n",
    "print(stack)"
   ]
  },
  {
   "cell_type": "code",
   "execution_count": 12,
   "metadata": {},
   "outputs": [
    {
     "ename": "SyntaxError",
     "evalue": "Error at line 0 (<string>)",
     "output_type": "error",
     "traceback": [
      "Traceback \u001b[1;36m(most recent call last)\u001b[0m:\n",
      "\u001b[0m  File \u001b[0;32m~\\AppData\\Roaming\\Python\\Python311\\site-packages\\IPython\\core\\interactiveshell.py:3433\u001b[0m in \u001b[0;35mrun_code\u001b[0m\n    exec(code_obj, self.user_global_ns, self.user_ns)\u001b[0m\n",
      "\u001b[1;36m  Cell \u001b[1;32mIn [12], line 3\u001b[1;36m\n\u001b[1;33m    raise SyntaxError(f\"Error at line {line_number}\")\u001b[1;36m\n",
      "\u001b[1;36m  File \u001b[1;32m<string>\u001b[1;36m\u001b[0m\n\u001b[1;31mSyntaxError\u001b[0m\u001b[1;31m:\u001b[0m Error at line 0\n"
     ]
    }
   ],
   "source": [
    "for line_number in range(0,len(lines)):\n",
    "    if len(lines[line_number].strip()) != 0:\n",
    "        raise SyntaxError(f\"Error at line {line_number}\")"
   ]
  },
  {
   "cell_type": "markdown",
   "metadata": {},
   "source": []
  },
  {
   "cell_type": "code",
   "execution_count": 6,
   "metadata": {},
   "outputs": [],
   "source": [
    "file = open('demofile.dots', 'r', encoding='UTF-8')\n",
    "oc_lines = file.readlines()"
   ]
  },
  {
   "cell_type": "code",
   "execution_count": 7,
   "metadata": {},
   "outputs": [
    {
     "name": "stdout",
     "output_type": "stream",
     "text": [
      ":m:\n",
      "(\n",
      ")\n",
      "{\n",
      "string \n",
      "hello\n",
      " :=: \n",
      "\"Hello :m: World\"\n",
      ":p:\n",
      "(\n",
      "hello\n",
      ")\n",
      "}\n"
     ]
    }
   ],
   "source": [
    "stack.sort(key=lambda x: x['position'][0])\n",
    "stack.sort(key=lambda x: x['line'])\n",
    "\n",
    "#print(stack)\n",
    "\n",
    "for item in stack:\n",
    "    print(str(oc_lines[item['line']])[item['position'][0]:item['position'][1]])"
   ]
  }
 ],
 "metadata": {
  "kernelspec": {
   "display_name": "Python 3.11.0 64-bit",
   "language": "python",
   "name": "python3"
  },
  "language_info": {
   "codemirror_mode": {
    "name": "ipython",
    "version": 3
   },
   "file_extension": ".py",
   "mimetype": "text/x-python",
   "name": "python",
   "nbconvert_exporter": "python",
   "pygments_lexer": "ipython3",
   "version": "3.11.0"
  },
  "orig_nbformat": 4,
  "vscode": {
   "interpreter": {
    "hash": "c261aea317cc0286b3b3261fbba9abdec21eaa57589985bb7a274bf54d6cc0a7"
   }
  }
 },
 "nbformat": 4,
 "nbformat_minor": 2
}
